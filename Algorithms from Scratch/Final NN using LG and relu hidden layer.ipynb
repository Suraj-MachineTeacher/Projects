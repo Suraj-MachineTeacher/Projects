{
 "cells": [
  {
   "cell_type": "code",
   "execution_count": 1,
   "metadata": {},
   "outputs": [],
   "source": [
    "import numpy as np\n",
    "import pandas as pd\n",
    "import math"
   ]
  },
  {
   "cell_type": "code",
   "execution_count": 2,
   "metadata": {},
   "outputs": [],
   "source": [
    "def sigmoid(z):\n",
    "    s = 1/(1+(np.exp(-z)))\n",
    "    return s"
   ]
  },
  {
   "cell_type": "code",
   "execution_count": 3,
   "metadata": {},
   "outputs": [],
   "source": [
    "def cost(a,y):\n",
    "    loss = 0 \n",
    "    for i in range(a.shape[0]):\n",
    "        #if a[i] != 0 and a[i] != 1:        #(The comment code is used becasue i'm getting nans)\n",
    "            loss += -(y[i] * np.log(a[i])) - ((1 - y[i]) * np.log(1 - a[i]))\n",
    "    \n",
    "        #else:                             #this avoid exp values and 0 and 1 adds the required output. Can be ignored if learning rate is low\n",
    "            #loss += 0\n",
    "            \n",
    "    return (loss/a.shape[0])   #cost function"
   ]
  },
  {
   "cell_type": "code",
   "execution_count": 4,
   "metadata": {},
   "outputs": [],
   "source": [
    "def relu(x):\n",
    "    return np.maximum(0,x)"
   ]
  },
  {
   "cell_type": "code",
   "execution_count": 5,
   "metadata": {},
   "outputs": [],
   "source": [
    "def deriv_relu(x):\n",
    "    return x >= 0 "
   ]
  },
  {
   "cell_type": "code",
   "execution_count": 6,
   "metadata": {},
   "outputs": [],
   "source": [
    "from sklearn.datasets import load_breast_cancer\n",
    "data = load_breast_cancer()\n",
    "features = data.data\n",
    "target = data.target"
   ]
  },
  {
   "cell_type": "code",
   "execution_count": 7,
   "metadata": {},
   "outputs": [],
   "source": [
    "from sklearn.model_selection import train_test_split\n",
    "x_train,x_test,y_train,y_test = train_test_split(features,target,test_size=0.3)"
   ]
  },
  {
   "cell_type": "code",
   "execution_count": 8,
   "metadata": {},
   "outputs": [],
   "source": [
    "from sklearn.preprocessing import StandardScaler\n",
    "scale = StandardScaler()\n",
    "scale.fit(x_train)\n",
    "x_train = scale.transform(x_train)\n",
    "x_test = scale.transform(x_test)"
   ]
  },
  {
   "cell_type": "code",
   "execution_count": 9,
   "metadata": {},
   "outputs": [],
   "source": [
    "def  train(x_train,y_train,hidden_units = 52,epochs = 25,batch_size = 16, lr =0.001):\n",
    "    weights_0 = 0.2*np.random.random((x_train.shape[1],hidden_units)) - 0.1\n",
    "    weights_1 = 0.2*np.random.random((hidden_units,1)) - 0.1\n",
    "    losses = []\n",
    "    numbers = range(x_train.shape[0])\n",
    "    batches_per_iteration = math.ceil(x_train.shape[0]/batch_size)\n",
    "    \n",
    "    for i in range(epochs):\n",
    "        loss = 0\n",
    "        for b in range(batches_per_iteration):\n",
    "            sample_list = np.random.choice(numbers,batch_size,replace = False)\n",
    "            x = x_train[sample_list,:]\n",
    "            y = (y_train[sample_list])\n",
    "            H = x.dot(weights_0)\n",
    "            ah = relu(H)\n",
    "            a = sigmoid(ah.dot(weights_1))\n",
    "            loss += cost(a,y)\n",
    "            \n",
    "            dz = a - (np.array(y).reshape(a.shape))\n",
    "            dw_1 = ah.T.dot(dz)\n",
    "            dH = deriv_relu(dz.dot(weights_1.T))\n",
    "            dw_0 = x.T.dot(dH)\n",
    "            weights_0 -= (lr*dw_0)\n",
    "            weights_1 -= (lr*dw_1)\n",
    "        avg_loss = loss / batches_per_iteration\n",
    "        losses.append(avg_loss)\n",
    "        if i % 10 == 0:\n",
    "            print(\"Epoch: \", i , avg_loss)\n",
    "\n",
    "    return losses,weights_0,weights_1"
   ]
  },
  {
   "cell_type": "code",
   "execution_count": 10,
   "metadata": {},
   "outputs": [
    {
     "name": "stdout",
     "output_type": "stream",
     "text": [
      "Epoch:  0 [0.63074687]\n",
      "Epoch:  10 [0.17525146]\n",
      "Epoch:  20 [0.17242193]\n",
      "Epoch:  30 [0.25846823]\n",
      "Epoch:  40 [0.15100483]\n"
     ]
    }
   ],
   "source": [
    "cost,w1,w2 = train(x_train,y_train,hidden_units = 64,epochs = 50,batch_size = 100, lr =0.0001) #learning rate is very low. so as epochs increases it may reach the optimal gradient descent"
   ]
  },
  {
   "cell_type": "code",
   "execution_count": 11,
   "metadata": {},
   "outputs": [],
   "source": [
    "def predict(x_test,w_input,w_output):\n",
    "    H = x_test.dot(w_input)\n",
    "    ah = relu(H)\n",
    "    a = sigmoid(ah.dot(w_output))\n",
    "    return a"
   ]
  },
  {
   "cell_type": "code",
   "execution_count": 12,
   "metadata": {},
   "outputs": [],
   "source": [
    "pred = predict(x_test,w1,w2)"
   ]
  },
  {
   "cell_type": "code",
   "execution_count": 13,
   "metadata": {},
   "outputs": [
    {
     "name": "stdout",
     "output_type": "stream",
     "text": [
      "Provide a threshold between 0 and 1 depending on recall and precision: 0.7\n"
     ]
    }
   ],
   "source": [
    "threshold = input(\"Provide a threshold between 0 and 1 depending on recall and precision: \")\n",
    "threshold = float(threshold)\n",
    "y_pred = np.where(pred > 0.5,1,0)"
   ]
  },
  {
   "cell_type": "code",
   "execution_count": 14,
   "metadata": {
    "scrolled": true
   },
   "outputs": [
    {
     "name": "stdout",
     "output_type": "stream",
     "text": [
      "              precision    recall  f1-score   support\n",
      "\n",
      "           0       0.88      0.97      0.92        67\n",
      "           1       0.98      0.91      0.95       104\n",
      "\n",
      "    accuracy                           0.94       171\n",
      "   macro avg       0.93      0.94      0.93       171\n",
      "weighted avg       0.94      0.94      0.94       171\n",
      "\n"
     ]
    }
   ],
   "source": [
    "from sklearn.metrics import classification_report\n",
    "print(classification_report(y_test,y_pred))"
   ]
  },
  {
   "cell_type": "code",
   "execution_count": 16,
   "metadata": {
    "scrolled": true
   },
   "outputs": [
    {
     "data": {
      "image/png": "[encoded data removed]",
      "text/plain": [
       "<Figure size 432x288 with 1 Axes>"
      ]
     },
     "metadata": {
      "needs_background": "light"
     },
     "output_type": "display_data"
    }
   ],
   "source": [
    "import matplotlib.pyplot as plt\n",
    "plt.plot(range(len(cost)), cost)\n",
    "plt.show()"
   ]
  },
  {
   "cell_type": "code",
   "execution_count": null,
   "metadata": {},
   "outputs": [],
   "source": []
  }
 ],
 "metadata": {
  "kernelspec": {
   "display_name": "Python 3",
   "language": "python",
   "name": "python3"
  },
  "language_info": {
   "codemirror_mode": {
    "name": "ipython",
    "version": 3
   },
   "file_extension": ".py",
   "mimetype": "text/x-python",
   "name": "python",
   "nbconvert_exporter": "python",
   "pygments_lexer": "ipython3",
   "version": "3.7.4"
  }
 },
 "nbformat": 4,
 "nbformat_minor": 2
}
